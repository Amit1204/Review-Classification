{
 "cells": [
  {
   "cell_type": "markdown",
   "id": "0b0c4e08",
   "metadata": {},
   "source": [
    "<h1> Implementing KNN algorithm !! </h1>"
   ]
  },
  {
   "cell_type": "code",
   "execution_count": 2,
   "id": "77bff86c",
   "metadata": {},
   "outputs": [],
   "source": [
    "import numpy as np\n",
    "import csv\n",
    "import pandas as pd\n",
    "import matplotlib.pyplot as plt\n",
    "\n",
    "#importing train data and assigning column names\n",
    "train_col_name=['rating','review']\n",
    "train_dataset=pd.read_csv(r\"C:\\Users\\abhay kumar tiwari\\Downloads\\train.csv\",names=train_col_name)\n",
    "train_data = pd.DataFrame({'rating':train_dataset['rating'], 'Review':train_dataset['review']}) \n",
    "\n",
    "#import test data and assigning column name\n",
    "train_col_name=['review']\n",
    "test_dataset=pd.read_csv(r\"C:\\Users\\abhay kumar tiwari\\Downloads\\test.csv\",names=train_col_name)\n",
    "test_data1 = pd.DataFrame({'Review':test_dataset['review']})"
   ]
  },
  {
   "cell_type": "code",
   "execution_count": 2,
   "id": "132f16b9",
   "metadata": {},
   "outputs": [
    {
     "data": {
      "text/html": [
       "<div>\n",
       "<style scoped>\n",
       "    .dataframe tbody tr th:only-of-type {\n",
       "        vertical-align: middle;\n",
       "    }\n",
       "\n",
       "    .dataframe tbody tr th {\n",
       "        vertical-align: top;\n",
       "    }\n",
       "\n",
       "    .dataframe thead th {\n",
       "        text-align: right;\n",
       "    }\n",
       "</style>\n",
       "<table border=\"1\" class=\"dataframe\">\n",
       "  <thead>\n",
       "    <tr style=\"text-align: right;\">\n",
       "      <th></th>\n",
       "      <th>rating</th>\n",
       "      <th>Review</th>\n",
       "    </tr>\n",
       "  </thead>\n",
       "  <tbody>\n",
       "    <tr>\n",
       "      <th>0</th>\n",
       "      <td>-1</td>\n",
       "      <td>Eat at Fioris, they said.  Youll like it, they...</td>\n",
       "    </tr>\n",
       "    <tr>\n",
       "      <th>1</th>\n",
       "      <td>-1</td>\n",
       "      <td>I just don't understand the appeal.  I've trie...</td>\n",
       "    </tr>\n",
       "    <tr>\n",
       "      <th>2</th>\n",
       "      <td>1</td>\n",
       "      <td>This is my go to place for a really good beef ...</td>\n",
       "    </tr>\n",
       "    <tr>\n",
       "      <th>3</th>\n",
       "      <td>-1</td>\n",
       "      <td>Not impressed. When I ordered the Oyako bowl, ...</td>\n",
       "    </tr>\n",
       "    <tr>\n",
       "      <th>4</th>\n",
       "      <td>-1</td>\n",
       "      <td>This is the first time ever I wrote a bad revi...</td>\n",
       "    </tr>\n",
       "  </tbody>\n",
       "</table>\n",
       "</div>"
      ],
      "text/plain": [
       "   rating                                             Review\n",
       "0      -1  Eat at Fioris, they said.  Youll like it, they...\n",
       "1      -1  I just don't understand the appeal.  I've trie...\n",
       "2       1  This is my go to place for a really good beef ...\n",
       "3      -1  Not impressed. When I ordered the Oyako bowl, ...\n",
       "4      -1  This is the first time ever I wrote a bad revi..."
      ]
     },
     "execution_count": 2,
     "metadata": {},
     "output_type": "execute_result"
    }
   ],
   "source": [
    "train_data.head()"
   ]
  },
  {
   "cell_type": "code",
   "execution_count": 3,
   "id": "54ee74ce",
   "metadata": {},
   "outputs": [
    {
     "data": {
      "text/html": [
       "<div>\n",
       "<style scoped>\n",
       "    .dataframe tbody tr th:only-of-type {\n",
       "        vertical-align: middle;\n",
       "    }\n",
       "\n",
       "    .dataframe tbody tr th {\n",
       "        vertical-align: top;\n",
       "    }\n",
       "\n",
       "    .dataframe thead th {\n",
       "        text-align: right;\n",
       "    }\n",
       "</style>\n",
       "<table border=\"1\" class=\"dataframe\">\n",
       "  <thead>\n",
       "    <tr style=\"text-align: right;\">\n",
       "      <th></th>\n",
       "      <th>Review</th>\n",
       "    </tr>\n",
       "  </thead>\n",
       "  <tbody>\n",
       "    <tr>\n",
       "      <th>0</th>\n",
       "      <td>Got take-out from here last night and it was H...</td>\n",
       "    </tr>\n",
       "    <tr>\n",
       "      <th>1</th>\n",
       "      <td>Girls are sweet and prices are reasonable. The...</td>\n",
       "    </tr>\n",
       "    <tr>\n",
       "      <th>2</th>\n",
       "      <td>Rudest people I have ever encountered.  Husban...</td>\n",
       "    </tr>\n",
       "    <tr>\n",
       "      <th>3</th>\n",
       "      <td>This airport is only coveted for the destinati...</td>\n",
       "    </tr>\n",
       "    <tr>\n",
       "      <th>4</th>\n",
       "      <td>The last 4 months have shown a steady decline ...</td>\n",
       "    </tr>\n",
       "  </tbody>\n",
       "</table>\n",
       "</div>"
      ],
      "text/plain": [
       "                                              Review\n",
       "0  Got take-out from here last night and it was H...\n",
       "1  Girls are sweet and prices are reasonable. The...\n",
       "2  Rudest people I have ever encountered.  Husban...\n",
       "3  This airport is only coveted for the destinati...\n",
       "4  The last 4 months have shown a steady decline ..."
      ]
     },
     "execution_count": 3,
     "metadata": {},
     "output_type": "execute_result"
    }
   ],
   "source": [
    "test_data1.head()"
   ]
  },
  {
   "cell_type": "code",
   "execution_count": 4,
   "id": "65c996bc",
   "metadata": {},
   "outputs": [
    {
     "data": {
      "text/plain": [
       "Text(0.5, 0, 'Label')"
      ]
     },
     "execution_count": 4,
     "metadata": {},
     "output_type": "execute_result"
    },
    {
     "data": {
      "image/png": "[encoded data removed]",
      "text/plain": [
       "<Figure size 432x288 with 1 Axes>"
      ]
     },
     "metadata": {
      "needs_background": "light"
     },
     "output_type": "display_data"
    }
   ],
   "source": [
    "# plotting the graph for the count of +1 and -1\n",
    "\n",
    "import seaborn as sns\n",
    "sns.countplot(x=train_data[\"rating\"])\n",
    "plt.title('Count of each class label')\n",
    "plt.xlabel('Label')"
   ]
  },
  {
   "cell_type": "code",
   "execution_count": 3,
   "id": "c2da62a3",
   "metadata": {},
   "outputs": [
    {
     "name": "stderr",
     "output_type": "stream",
     "text": [
      "[nltk_data] Downloading package stopwords to C:\\Users\\abhay kumar\n",
      "[nltk_data]     tiwari\\AppData\\Roaming\\nltk_data...\n",
      "[nltk_data]   Unzipping corpora\\stopwords.zip.\n"
     ]
    }
   ],
   "source": [
    "# Data preprocessing\n",
    "# lowering the case, removing stopwords, removing punctuation from reviews column\n",
    "import nltk\n",
    "nltk.download('stopwords')\n",
    "from string import punctuation\n",
    "from nltk.corpus import stopwords\n",
    "\n",
    "stopwords_en = set(stopwords.words('english'))\n",
    "stopwords_en_withpunct = stopwords_en.union(set(punctuation))\n",
    "stopwords_en_withpunct.remove('not')\n",
    "stopwords_en_withpunct.add(\"\\n\")\n",
    "import re\n",
    "def preprocess(phrase):\n",
    "    phrase=phrase.lower()\n",
    "    phrase = re.sub(r\"n\\'t\", \" not\", phrase)\n",
    "    phrase = re.sub(r\"\\'re\", \" are\", phrase)\n",
    "    phrase = re.sub(r\"\\'s\", \" is\", phrase)\n",
    "    phrase = re.sub(r\"\\'d\", \" would\", phrase)\n",
    "    phrase = re.sub(r\"\\'ll\", \" will\", phrase)\n",
    "    phrase = re.sub(r\"\\'t\", \" not\", phrase)\n",
    "    phrase = re.sub(r\"\\'ve\", \" have\", phrase)\n",
    "    phrase = re.sub(r\"\\'m\", \" am\", phrase)\n",
    "    list1 = phrase.split()\n",
    "    output = [w for w in list1 if not w in stopwords_en_withpunct]\n",
    "    \n",
    "    comment=\"\"\n",
    "    for i in output:\n",
    "      comment=comment+i+\" \"\n",
    "    return comment.strip()"
   ]
  },
  {
   "cell_type": "code",
   "execution_count": 6,
   "id": "e9b27dd7",
   "metadata": {},
   "outputs": [],
   "source": [
    "test_data1['Review'] = test_data1['Review'].apply(lambda x: preprocess(x))\n",
    "train_data['Review'] = train_data['Review'].apply(lambda x: preprocess(x))"
   ]
  },
  {
   "cell_type": "code",
   "execution_count": 7,
   "id": "bb70352e",
   "metadata": {},
   "outputs": [],
   "source": [
    "#stemming of the data\n",
    "\n",
    "test_data=train_data[12600:]\n",
    "train_data=train_data[:12600]\n",
    "\n",
    "from nltk.stem.porter import PorterStemmer\n",
    "def simple_stemmer(text):\n",
    "    ps=PorterStemmer()\n",
    "    text= ' '.join([ps.stem(word) for word in text.split()])\n",
    "    return text\n",
    "\n",
    "#Apply function on review column\n",
    "test_data['Review']=test_data['Review'].apply(simple_stemmer)\n",
    "test_data1['Review']=test_data1['Review'].apply(simple_stemmer)\n",
    "train_data['Review']=train_data['Review'].apply(simple_stemmer)"
   ]
  },
  {
   "cell_type": "code",
   "execution_count": 8,
   "id": "7f17ccf6",
   "metadata": {},
   "outputs": [],
   "source": [
    "# Peforming tf-idf\n",
    "# Vectorization\n",
    "\n",
    "from sklearn.feature_extraction.text import CountVectorizer\n",
    "from sklearn.feature_extraction.text import TfidfVectorizer\n",
    "tfidf_vectorizer = TfidfVectorizer(norm = 'l2',min_df = 3, use_idf = True, smooth_idf = False, sublinear_tf = True, \\\n",
    "                             ngram_range=(1,2),max_df = 15000)\n",
    "# Converting to a vector\n",
    "train_vector = tfidf_vectorizer.fit_transform(train_data[\"Review\"])\n",
    "test_vector1 = tfidf_vectorizer.transform(test_data1[\"Review\"])\n",
    "test_vector = tfidf_vectorizer.transform(test_data[\"Review\"])"
   ]
  },
  {
   "cell_type": "code",
   "execution_count": 9,
   "id": "411069fa",
   "metadata": {},
   "outputs": [],
   "source": [
    "# KNN algorithm\n",
    "def predict_knn(nearestNeighbors, labels):\n",
    "    positive_review = 0\n",
    "    negative_review = 0\n",
    "    for neighbor in nearestNeighbors:\n",
    "        if int(labels[neighbor]) == 1:\n",
    "            positive_review = positive_review + 1\n",
    "        else:\n",
    "            negative_review = negative_review + 1\n",
    "    if positive_review > negative_review:\n",
    "        return 1\n",
    "    else:\n",
    "        return -1"
   ]
  },
  {
   "cell_type": "code",
   "execution_count": 10,
   "id": "30a38aaa",
   "metadata": {},
   "outputs": [],
   "source": [
    "#calculating accuracy\n",
    "from sklearn.metrics.pairwise import cosine_similarity\n",
    "from sklearn import metrics\n",
    "\n",
    "def cal_acc(k):\n",
    "    c = cosine_similarity(test_vector,train_vector)\n",
    "    predict_class_label = list()\n",
    "    for similarity in c:\n",
    "        knn = np.argsort(-similarity)[:k]\n",
    "        prediction = predict_knn(knn, train_data[\"rating\"])\n",
    "        if prediction == -1:\n",
    "            predict_class_label.append(-1)\n",
    "        else:\n",
    "            predict_class_label.append(1)\n",
    "    accuracy = metrics.accuracy_score(test_data[\"rating\"], predict_class_label)\n",
    "    return accuracy,predict_class_label\n",
    "\n",
    "\n",
    "pred=cal_acc(100)\n",
    "accuracy=pred[0]\n",
    "\n",
    "# getting our prediction file\n",
    "with open(\"/Users/anjali/Documents/Materials/SEM - 1/CS 584/HW/HW1_Maddila/prediction_file.txt\", 'w') as log:\n",
    "    for x in pred[1]:\n",
    "        log.write(str(x)+'\\n')"
   ]
  },
  {
   "cell_type": "code",
   "execution_count": 11,
   "id": "81b810c4",
   "metadata": {},
   "outputs": [
    {
     "name": "stdout",
     "output_type": "stream",
     "text": [
      "0.8783333333333333\n"
     ]
    }
   ],
   "source": [
    "print(accuracy)"
   ]
  },
  {
   "cell_type": "code",
   "execution_count": null,
   "id": "d12b3aca",
   "metadata": {},
   "outputs": [],
   "source": []
  },
  {
   "cell_type": "code",
   "execution_count": null,
   "id": "e1ccd275",
   "metadata": {},
   "outputs": [],
   "source": []
  },
  {
   "cell_type": "code",
   "execution_count": null,
   "id": "09d9a57e",
   "metadata": {},
   "outputs": [],
   "source": []
  },
  {
   "cell_type": "code",
   "execution_count": null,
   "id": "a66f59b4",
   "metadata": {},
   "outputs": [],
   "source": []
  },
  {
   "cell_type": "code",
   "execution_count": null,
   "id": "f2f2389b",
   "metadata": {},
   "outputs": [],
   "source": []
  },
  {
   "cell_type": "code",
   "execution_count": null,
   "id": "6a756cc0",
   "metadata": {},
   "outputs": [],
   "source": []
  }
 ],
 "metadata": {
  "kernelspec": {
   "display_name": "Python 3 (ipykernel)",
   "language": "python",
   "name": "python3"
  },
  "language_info": {
   "codemirror_mode": {
    "name": "ipython",
    "version": 3
   },
   "file_extension": ".py",
   "mimetype": "text/x-python",
   "name": "python",
   "nbconvert_exporter": "python",
   "pygments_lexer": "ipython3",
   "version": "3.9.7"
  }
 },
 "nbformat": 4,
 "nbformat_minor": 5
}
